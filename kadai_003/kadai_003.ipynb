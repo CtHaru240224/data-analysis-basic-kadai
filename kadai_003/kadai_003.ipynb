{
  "nbformat": 4,
  "nbformat_minor": 0,
  "metadata": {
    "colab": {
      "provenance": []
    },
    "kernelspec": {
      "name": "python3",
      "display_name": "Python 3"
    },
    "language_info": {
      "name": "python"
    }
  },
  "cells": [
    {
      "cell_type": "code",
      "execution_count": 2,
      "metadata": {
        "colab": {
          "base_uri": "https://localhost:8080/"
        },
        "id": "DjTdpGI5jKiM",
        "outputId": "8cc28b1f-3c8d-4a56-9dc6-b7fa7e0d35c6"
      },
      "outputs": [
        {
          "output_type": "stream",
          "name": "stdout",
          "text": [
            "行列の積の結果:\n",
            "[[ 58  64]\n",
            " [139 154]]\n",
            "行列の要素の最大値: 154\n"
          ]
        }
      ],
      "source": [
        "import numpy as np\n",
        "A = np.array([[1, 2, 3], [4, 5, 6]])\n",
        "B = np.array([[7, 8], [9, 10], [11, 12]])\n",
        "C = np.dot(A, B)\n",
        "print(\"行列の積の結果:\")\n",
        "print(C)\n",
        "max_value = np.max(C)\n",
        "print(\"行列の要素の最大値:\", max_value)\n",
        "\n"
      ]
    }
  ]
}