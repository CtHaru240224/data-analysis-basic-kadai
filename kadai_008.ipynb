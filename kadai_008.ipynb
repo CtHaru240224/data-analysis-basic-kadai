{
  "nbformat": 4,
  "nbformat_minor": 0,
  "metadata": {
    "colab": {
      "provenance": []
    },
    "kernelspec": {
      "name": "python3",
      "display_name": "Python 3"
    },
    "language_info": {
      "name": "python"
    }
  },
  "cells": [
    {
      "cell_type": "code",
      "source": [
        "#決定木の場合\n",
        "#8.1\n",
        "from sklearn.datasets import load_wine\n",
        "dataset = load_wine()\n",
        "dataset\n",
        "dataset.data\n",
        "dataset.feature_names\n",
        "\n",
        "import pandas as pd\n",
        "df = pd.DataFrame(data=dataset.data, columns=dataset.feature_names)\n",
        "df.head()\n",
        "dataset.target\n",
        "\n",
        "df[\"category\"] = dataset.target\n",
        "df.head()\n",
        "df.shape\n",
        "#8.2\n",
        "X = dataset.data\n",
        "y = dataset.target\n",
        "\n",
        "from sklearn.model_selection import train_test_split\n",
        "train_test_split(X, y, test_size=0.3, random_state=5)\n",
        "# 以下のようにrandom_stateを指定しない場合、実行毎に結果が異なります。\n",
        "# train_test_split(X, y, test_size=0.3)\n",
        "\n",
        "X_train, X_test, y_train, y_test = train_test_split(X, y, test_size=0.3, random_state=5)\n",
        "\n",
        "\n",
        "#8.3\n",
        "from sklearn.tree import DecisionTreeClassifier\n",
        "model = DecisionTreeClassifier(random_state=3)\n",
        "# 以下のようにrandom_stateを指定しない場合、最終的に生成される予測モデルが実行毎に異なる可能性があります。これは、モデルの評価結果や予測結果が実行毎に変わってしまう可能性があること意味します。\n",
        "# model = DecisionTreeClassifi\n",
        "\n",
        "#8.4\n",
        "model.fit(X_train, y_train)\n",
        "\n",
        "#8.5\n",
        "y_pred = model.predict(X_test)\n",
        "y_pred\n",
        "y_test\n",
        "\n",
        "from sklearn.metrics import accuracy_score\n",
        "accuracy_score(y_test, y_pred)\n",
        "\n"
      ],
      "metadata": {
        "colab": {
          "base_uri": "https://localhost:8080/"
        },
        "id": "DHnHGzxTqwMb",
        "outputId": "d9e2c710-2251-4bfe-dbc6-97cbf4d8ba11"
      },
      "execution_count": 9,
      "outputs": [
        {
          "output_type": "execute_result",
          "data": {
            "text/plain": [
              "0.9259259259259259"
            ]
          },
          "metadata": {},
          "execution_count": 9
        }
      ]
    },
    {
      "cell_type": "code",
      "source": [
        "#ランダムフォレストの場合\n",
        "\n",
        "from sklearn.datasets import load_wine\n",
        "dataset = load_wine()\n",
        "dataset\n",
        "dataset.data\n",
        "dataset.feature_names\n",
        "\n",
        "import pandas as pd\n",
        "df = pd.DataFrame(data=dataset.data, columns=dataset.feature_names)\n",
        "df.head()\n",
        "dataset.target\n",
        "\n",
        "df[\"category\"] = dataset.target\n",
        "df.head()\n",
        "df.shape\n",
        "\n",
        "X = dataset.data\n",
        "y = dataset.target\n",
        "\n",
        "from sklearn.model_selection import train_test_split\n",
        "train_test_split(X, y, test_size=0.3, random_state=5)\n",
        "\n",
        "X_train, X_test, y_train, y_test = train_test_split(X, y, test_size=0.3, random_state=5)\n",
        "\n",
        "# ランダムフォレストモデルをインポート\n",
        "from sklearn.ensemble import RandomForestClassifier\n",
        "\n",
        "# ランダムフォレストモデルの初期化（木の数は100とします）\n",
        "model = RandomForestClassifier(n_estimators=100, random_state=3)\n",
        "\n",
        "# モデルの適合\n",
        "model.fit(X_train, y_train)\n",
        "\n",
        "# テストデータを使って予測を行う\n",
        "y_pred = model.predict(X_test)\n",
        "\n",
        "# モデルの評価（精度を計算）\n",
        "accuracy = model.score(X_test, y_test)\n",
        "print(\"Accuracy:\", accuracy)\n",
        "\n"
      ],
      "metadata": {
        "colab": {
          "base_uri": "https://localhost:8080/"
        },
        "id": "ZQmqXgkhro4d",
        "outputId": "bddc72c8-b0b1-415e-8f34-21b040b3855f"
      },
      "execution_count": 14,
      "outputs": [
        {
          "output_type": "stream",
          "name": "stdout",
          "text": [
            "Accuracy: 0.9629629629629629\n"
          ]
        }
      ]
    }
  ]
}